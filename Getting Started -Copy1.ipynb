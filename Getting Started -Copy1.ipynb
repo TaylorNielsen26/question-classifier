{
 "cells": [
  {
   "cell_type": "code",
   "execution_count": 2,
   "metadata": {},
   "outputs": [],
   "source": [
    "import pandas as pd \n",
    "import spacy \n",
    "import json \n",
    "from pandas.io.json import json_normalize"
   ]
  },
  {
   "cell_type": "code",
   "execution_count": 47,
   "metadata": {},
   "outputs": [
    {
     "ename": "SyntaxError",
     "evalue": "invalid syntax (<ipython-input-47-2fa825324830>, line 16)",
     "output_type": "error",
     "traceback": [
      "\u001b[0;36m  File \u001b[0;32m\"<ipython-input-47-2fa825324830>\"\u001b[0;36m, line \u001b[0;32m16\u001b[0m\n\u001b[0;31m    elif\u001b[0m\n\u001b[0m        ^\u001b[0m\n\u001b[0;31mSyntaxError\u001b[0m\u001b[0;31m:\u001b[0m invalid syntax\n"
     ]
    }
   ],
   "source": [
    "#Goal: We want to predict if a user utterance is a question \n",
    "# Input: string (1 - nword)\n",
    "# Output: 1 - question, 0 - not a question\n",
    "\n",
    "u1 = \"How can I sign up for a credit card?\"\n",
    "u2 = \"I have 50 dollars in the bank\"\n",
    "\n",
    "def is_question(text: str) -> bool:\n",
    "    if text.find(\"How|who\"):\n",
    "        return True\n",
    "    else:\n",
    "        return False\n",
    "    #return text[-1] == '?'\n",
    "    if \"who\" in text:\n",
    "        return True\n",
    "    elif\n",
    "\n",
    "is_question(u2)"
   ]
  },
  {
   "cell_type": "code",
   "execution_count": 66,
   "metadata": {},
   "outputs": [
    {
     "name": "stdout",
     "output_type": "stream",
     "text": [
      "{'qas': [{'question': \"What was Frédéric's nationalities?\", 'id': '56cbd2356d243a140015ed66', 'answers': [{'text': 'Polish and French', 'answer_start': 182}], 'is_impossible': False}, {'question': 'In what era was Frédéric active in?', 'id': '56cbd2356d243a140015ed67', 'answers': [{'text': 'Romantic era', 'answer_start': 276}], 'is_impossible': False}, {'question': 'For what instrument did Frédéric write primarily for?', 'id': '56cbd2356d243a140015ed68', 'answers': [{'text': 'solo piano', 'answer_start': 318}], 'is_impossible': False}, {'question': 'In what area was Frédéric born in?', 'id': '56cbd2356d243a140015ed69', 'answers': [{'text': 'Duchy of Warsaw', 'answer_start': 559}], 'is_impossible': False}, {'question': 'At what age did Frédéric depart from Poland?', 'id': '56cbd2356d243a140015ed6a', 'answers': [{'text': '20', 'answer_start': 777}], 'is_impossible': False}, {'question': 'What year was Chopin born?', 'id': '56ce0a3762d2951400fa69d6', 'answers': [{'text': '1810', 'answer_start': 113}], 'is_impossible': False}, {'question': 'What era was Chopin active during?', 'id': '56ce0a3762d2951400fa69d7', 'answers': [{'text': 'Romantic era', 'answer_start': 276}], 'is_impossible': False}, {'question': 'Where did Chopin grow up?', 'id': '56ce0a3762d2951400fa69d8', 'answers': [{'text': 'Warsaw', 'answer_start': 568}], 'is_impossible': False}, {'question': 'What instrument did he mostly compose for?', 'id': '56ce0a3762d2951400fa69d9', 'answers': [{'text': 'solo piano', 'answer_start': 318}], 'is_impossible': False}, {'question': 'At what age did Chopin  leave Poland?', 'id': '56ce0a3762d2951400fa69da', 'answers': [{'text': '20', 'answer_start': 777}], 'is_impossible': False}, {'question': 'When did Chopin die?', 'id': '56cf54a2aab44d1400b89006', 'answers': [{'text': '17 October 1849', 'answer_start': 120}], 'is_impossible': False}, {'question': \"What was Chopin's full name?\", 'id': '56cf54a2aab44d1400b89008', 'answers': [{'text': 'Fryderyk Franciszek Chopin', 'answer_start': 143}], 'is_impossible': False}, {'question': \"The majority of Chopin's compositions were for what instrument?\", 'id': '56cf54a2aab44d1400b89009', 'answers': [{'text': 'solo piano', 'answer_start': 318}], 'is_impossible': False}, {'question': 'Chopin was active during what era?', 'id': '56cf54a2aab44d1400b8900a', 'answers': [{'text': 'Romantic era', 'answer_start': 276}], 'is_impossible': False}, {'question': 'In what year was Chopin born?', 'id': '56d1ca30e7d4791d009021a7', 'answers': [{'text': '1810', 'answer_start': 113}], 'is_impossible': False}, {'question': 'In what city was Chopin born and raised?', 'id': '56d1ca30e7d4791d009021a8', 'answers': [{'text': 'Warsaw', 'answer_start': 568}], 'is_impossible': False}, {'question': 'How old was Chopin when he left Poland?', 'id': '56d1ca30e7d4791d009021a9', 'answers': [{'text': '20', 'answer_start': 777}], 'is_impossible': False}, {'question': 'In what era of music did Chopin compose?', 'id': '56d1ca30e7d4791d009021aa', 'answers': [{'text': 'Romantic', 'answer_start': 276}], 'is_impossible': False}, {'question': 'What year did Chopin die?', 'id': '56d1ca30e7d4791d009021ab', 'answers': [{'text': '1849', 'answer_start': 131}], 'is_impossible': False}], 'context': 'Frédéric François Chopin (/ˈʃoʊpæn/; French pronunciation: \\u200b[fʁe.de.ʁik fʁɑ̃.swa ʃɔ.pɛ̃]; 22 February or 1 March 1810 – 17 October 1849), born Fryderyk Franciszek Chopin,[n 1] was a Polish and French (by citizenship and birth of father) composer and a virtuoso pianist of the Romantic era, who wrote primarily for the solo piano. He gained and has maintained renown worldwide as one of the leading musicians of his era, whose \"poetic genius was based on a professional technique that was without equal in his generation.\" Chopin was born in what was then the Duchy of Warsaw, and grew up in Warsaw, which after 1815 became part of Congress Poland. A child prodigy, he completed his musical education and composed his earlier works in Warsaw before leaving Poland at the age of 20, less than a month before the outbreak of the November 1830 Uprising.'}\n",
      "{'qas': [{'question': 'At what age did Frédéric move to Paris?', 'id': '56cbd2f96d243a140015ed70', 'answers': [{'text': '21', 'answer_start': 14}], 'is_impossible': False}, {'question': 'How many public performances was Frédéric estimated to have given during the remainder of his life?', 'id': '56cbd2f96d243a140015ed71', 'answers': [{'text': '30', 'answer_start': 106}], 'is_impossible': False}, {'question': 'In what year did Frédéric obtain citizenship in France?', 'id': '56cbd2f96d243a140015ed72', 'answers': [{'text': '1835', 'answer_start': 415}], 'is_impossible': False}, {'question': \"In what area had Frédéric's most productive period of composition taken place?\", 'id': '56cbd2f96d243a140015ed73', 'answers': [{'text': 'Majorca', 'answer_start': 626}], 'is_impossible': False}, {'question': \"What was Frédéric's most likely cause of death?\", 'id': '56cbd2f96d243a140015ed74', 'answers': [{'text': 'tuberculosis', 'answer_start': 939}], 'is_impossible': False}, {'question': 'Where did he end up living when he was 21?', 'id': '56ce0d8662d2951400fa69e8', 'answers': [{'text': 'Paris', 'answer_start': 31}], 'is_impossible': False}, {'question': 'How many public shows did he perform during the last years of his life?', 'id': '56ce0d8662d2951400fa69e9', 'answers': [{'text': '30', 'answer_start': 106}], 'is_impossible': False}, {'question': 'What other composer did Chopin develop a friendship with?', 'id': '56ce0d8662d2951400fa69ea', 'answers': [{'text': 'Franz Liszt', 'answer_start': 318}], 'is_impossible': False}, {'question': 'What year did he gain citizenship in France?', 'id': '56ce0d8662d2951400fa69eb', 'answers': [{'text': '1835', 'answer_start': 415}], 'is_impossible': False}, {'question': 'What is the name of the woman he had a relationship with from 1837-847?', 'id': '56ce0d8662d2951400fa69ec', 'answers': [{'text': 'Maria Wodzińska', 'answer_start': 481}], 'is_impossible': False}, {'question': 'At what age did Chopin move to Paris?', 'id': '56cf5734aab44d1400b89079', 'answers': [{'text': '21', 'answer_start': 14}], 'is_impossible': False}, {'question': 'During the last 18 years he lived about how many times did Chopin perform in public?', 'id': '56cf5734aab44d1400b8907a', 'answers': [{'text': '30', 'answer_start': 106}], 'is_impossible': False}, {'question': 'What year did Chopin become a citizen of France?', 'id': '56cf5734aab44d1400b8907c', 'answers': [{'text': '1835', 'answer_start': 415}], 'is_impossible': False}, {'question': 'In the last years of his life who was the person that supported him financially?', 'id': '56cf5734aab44d1400b8907d', 'answers': [{'text': 'Jane Stirling', 'answer_start': 773}], 'is_impossible': False}, {'question': 'In what year did Chopin become a French citizen?', 'id': '56d1cd98e7d4791d009021e6', 'answers': [{'text': '1835', 'answer_start': 415}], 'is_impossible': False}, {'question': 'Who gave Chopin money in the last years of his life?', 'id': '56d1cd98e7d4791d009021e7', 'answers': [{'text': 'Jane Stirling', 'answer_start': 773}], 'is_impossible': False}, {'question': 'What was the likely cause of death for Chopin?', 'id': '56d1cd98e7d4791d009021e8', 'answers': [{'text': 'tuberculosis', 'answer_start': 939}], 'is_impossible': False}], 'context': 'At the age of 21 he settled in Paris. Thereafter, during the last 18 years of his life, he gave only some 30 public performances, preferring the more intimate atmosphere of the salon. He supported himself by selling his compositions and teaching piano, for which he was in high demand. Chopin formed a friendship with Franz Liszt and was admired by many of his musical contemporaries, including Robert Schumann. In 1835 he obtained French citizenship. After a failed engagement to Maria Wodzińska, from 1837 to 1847 he maintained an often troubled relationship with the French writer George Sand. A brief and unhappy visit to Majorca with Sand in 1838–39 was one of his most productive periods of composition. In his last years, he was financially supported by his admirer Jane Stirling, who also arranged for him to visit Scotland in 1848. Through most of his life, Chopin suffered from poor health. He died in Paris in 1849, probably of tuberculosis.'}\n",
      "{'qas': [{'question': 'What instrument did every composition by Frédéric include?', 'id': '56cbd4c56d243a140015ed7a', 'answers': [{'text': 'piano', 'answer_start': 41}], 'is_impossible': False}, {'question': 'What concept was Frédéric credited with creating?', 'id': '56cbd4c56d243a140015ed7b', 'answers': [{'text': 'instrumental ballade', 'answer_start': 340}], 'is_impossible': False}, {'question': 'Whose music did Frédéric admire the most and thus provide influence on his work?', 'id': '56cbd4c56d243a140015ed7c', 'answers': [{'text': 'J. S. Bach, Mozart and Schubert', 'answer_start': 620}], 'is_impossible': False}, {'question': \"What features marked Frédéric's performance style and made them unique?\", 'id': '56cbd4c56d243a140015ed7d', 'answers': [{'text': 'nuance and sensitivity', 'answer_start': 285}], 'is_impossible': False}, {'question': 'What establishments did Frédéric frequently visit in Paris that influenced his career?', 'id': '56cbd4c56d243a140015ed7e', 'answers': [{'text': 'Paris salons', 'answer_start': 705}], 'is_impossible': False}, {'question': 'Which instrument do every one of his compositions include?', 'id': '56ce0f42aab44d1400b8841e', 'answers': [{'text': 'piano', 'answer_start': 41}], 'is_impossible': False}, {'question': 'What concept did Chopin create?', 'id': '56ce0f42aab44d1400b8841f', 'answers': [{'text': 'instrumental ballade', 'answer_start': 340}], 'is_impossible': False}, {'question': \"What are two things Chopin's performances were known for?\", 'id': '56ce0f42aab44d1400b88420', 'answers': [{'text': 'nuance and sensitivity', 'answer_start': 285}], 'is_impossible': False}, {'question': \"What three composers influenced Chopin's work?\", 'id': '56ce0f42aab44d1400b88421', 'answers': [{'text': 'J. S. Bach, Mozart and Schubert', 'answer_start': 620}], 'is_impossible': False}, {'question': 'Chopin wrote some music to lyrics, what language were the lyrics?', 'id': '56ce0f42aab44d1400b88422', 'answers': [{'text': 'Polish', 'answer_start': 155}], 'is_impossible': False}, {'question': \"What instrument is involved in all of Chopin's work?\", 'id': '56cf582eaab44d1400b8909b', 'answers': [{'text': 'piano', 'answer_start': 41}], 'is_impossible': False}, {'question': 'Chopin composed several songs to lyrics of what language?', 'id': '56cf582eaab44d1400b8909c', 'answers': [{'text': 'Polish', 'answer_start': 155}], 'is_impossible': False}, {'question': \"Chopin's performances were known for what?\", 'id': '56cf582eaab44d1400b8909d', 'answers': [{'text': 'nuance and sensitivity', 'answer_start': 285}], 'is_impossible': False}, {'question': 'What three composers did Chopin take inspiration from?', 'id': '56cf582eaab44d1400b8909e', 'answers': [{'text': 'J. S. Bach, Mozart and Schubert', 'answer_start': 620}], 'is_impossible': False}, {'question': \"What instrument was all of Chopin's compositions written for?\", 'id': '56d1cf80e7d4791d00902211', 'answers': [{'text': 'piano', 'answer_start': 41}], 'is_impossible': False}, {'question': 'What language were some songs written in that Chopin wrote music for?', 'id': '56d1cf80e7d4791d00902212', 'answers': [{'text': 'Polish', 'answer_start': 155}], 'is_impossible': False}, {'question': 'Of what venue was Chopin an often invited guest?', 'id': '56d1cf80e7d4791d00902215', 'answers': [{'text': 'Paris salons', 'answer_start': 705}], 'is_impossible': False}], 'context': \"All of Chopin's compositions include the piano. Most are for solo piano, though he also wrote two piano concertos, a few chamber pieces, and some songs to Polish lyrics. His keyboard style is highly individual and often technically demanding; his own performances were noted for their nuance and sensitivity. Chopin invented the concept of instrumental ballade. His major piano works also include mazurkas, waltzes, nocturnes, polonaises, études, impromptus, scherzos, preludes and sonatas, some published only after his death. Influences on his compositional style include Polish folk music, the classical tradition of J. S. Bach, Mozart and Schubert, the music of all of whom he admired, as well as the Paris salons where he was a frequent guest. His innovations in style, musical form, and harmony, and his association of music with nationalism, were influential throughout and after the late Romantic period.\"}\n",
      "{'qas': [{'question': \"What was the degree of Frédéric's association with political insurrection?\", 'id': '56cbd8c66d243a140015ed85', 'answers': [{'text': 'indirect', 'answer_start': 173}], 'is_impossible': False}, {'question': \"What parts of Frédéric's personal life influenced his legacy as a leading symbol of the era?\", 'id': '56cbd8c66d243a140015ed86', 'answers': [{'text': 'his love life and his early death', 'answer_start': 212}], 'is_impossible': False}, {'question': 'In which era was Frédéric leave a legacy of as a leading symbol?', 'id': '56cbd8c66d243a140015ed87', 'answers': [{'text': 'Romantic era', 'answer_start': 314}], 'is_impossible': False}, {'question': 'In what forms of media has Frédéric been the subject of?', 'id': '56cbd8c66d243a140015ed88', 'answers': [{'text': 'films and biographies', 'answer_start': 394}], 'is_impossible': False}, {'question': 'Where did Chopin create the majority of his compositions?', 'id': '56ce1138aab44d1400b88428', 'answers': [{'text': 'France', 'answer_start': 25}], 'is_impossible': False}, {'question': 'Chopin is a native of what country?', 'id': '56ce1138aab44d1400b88429', 'answers': [{'text': 'Poland', 'answer_start': 14}], 'is_impossible': False}, {'question': 'He had a non-direct association with what?', 'id': '56ce1138aab44d1400b8842a', 'answers': [{'text': 'political insurrection', 'answer_start': 188}], 'is_impossible': False}, {'question': 'Chopin is closely associated with what era?', 'id': '56ce1138aab44d1400b8842b', 'answers': [{'text': 'Romantic era', 'answer_start': 314}], 'is_impossible': False}, {'question': 'Where did Chopin create most of his works?', 'id': '56cf5a5aaab44d1400b890dd', 'answers': [{'text': 'France', 'answer_start': 25}], 'is_impossible': False}, {'question': 'Chopin was indirectly related to what?', 'id': '56cf5a5aaab44d1400b890de', 'answers': [{'text': 'political insurrection', 'answer_start': 188}], 'is_impossible': False}, {'question': 'Chopin is considered a prominent symbol of what?', 'id': '56cf5a5aaab44d1400b890df', 'answers': [{'text': 'Romantic era', 'answer_start': 314}], 'is_impossible': False}], 'context': \"In his native Poland, in France, where he composed most of his works, and beyond, Chopin's music, his status as one of music's earliest superstars, his association (if only indirect) with political insurrection, his love life and his early death have made him, in the public consciousness, a leading symbol of the Romantic era. His works remain popular, and he has been the subject of numerous films and biographies of varying degrees of historical accuracy.\"}\n",
      "{'qas': [{'question': 'In what village was Frédéric born in?', 'id': '56cbda8d6d243a140015ed8e', 'answers': [{'text': 'Żelazowa Wola', 'answer_start': 28}], 'is_impossible': False}, {'question': 'On what date was Frédéric born on?', 'id': '56cbda8d6d243a140015ed8f', 'answers': [{'text': '22 February 1810', 'answer_start': 212}], 'is_impossible': False}, {'question': 'Despite the birthdate given by parish baptismal, what date is given by the composer and his family instead?', 'id': '56cbda8d6d243a140015ed90', 'answers': [{'text': '1 March', 'answer_start': 393}], 'is_impossible': False}, {'question': \"What was the latin form of Frédéric's full name?\", 'id': '56cbda8d6d243a140015ed91', 'answers': [{'text': 'Fridericus Franciscus', 'answer_start': 274}], 'is_impossible': False}, {'question': 'How many miles was the village Frédéric born in located to the west of Warsaw?', 'id': '56cbda8d6d243a140015ed92', 'answers': [{'text': '29', 'answer_start': 58}], 'is_impossible': False}, {'question': 'Where was Chopin born?', 'id': '56ce1225aab44d1400b88430', 'answers': [{'text': 'Żelazowa Wola', 'answer_start': 28}], 'is_impossible': False}, {'question': 'Who was responsible for the creation of the Duchy of Warsaw?', 'id': '56ce1225aab44d1400b88431', 'answers': [{'text': 'Napoleon', 'answer_start': 152}], 'is_impossible': False}, {'question': 'When was his birthday recorded as being?', 'id': '56ce1225aab44d1400b88432', 'answers': [{'text': '22 February 1810', 'answer_start': 212}], 'is_impossible': False}, {'question': 'What birth date is now considered as his actual birthday?', 'id': '56ce1225aab44d1400b88433', 'answers': [{'text': '1 March', 'answer_start': 393}], 'is_impossible': False}, {'question': \"Chopin's given names in Latin are what?\", 'id': '56ce1225aab44d1400b88434', 'answers': [{'text': 'Fridericus Franciscus', 'answer_start': 274}], 'is_impossible': False}, {'question': 'The Duchy of Warsaw was created by whom?', 'id': '56cf5b40aab44d1400b890fe', 'answers': [{'text': 'Napoleon', 'answer_start': 152}], 'is_impossible': False}, {'question': \"Chopin's birth is recorded as when?\", 'id': '56cf5b40aab44d1400b890ff', 'answers': [{'text': '22 February 1810', 'answer_start': 212}], 'is_impossible': False}, {'question': 'What birth date is now considered correct for Chopin?', 'id': '56cf5b40aab44d1400b89100', 'answers': [{'text': '1 March', 'answer_start': 393}], 'is_impossible': False}, {'question': \"What is the Latin form of Chopin's name?\", 'id': '56cf5b40aab44d1400b89101', 'answers': [{'text': 'Fridericus Franciscus', 'answer_start': 274}], 'is_impossible': False}, {'question': 'Chopin was actually born outside of Warsaw at what location?', 'id': '56d1d330e7d4791d0090224d', 'answers': [{'text': 'Żelazowa Wola', 'answer_start': 28}], 'is_impossible': False}, {'question': 'What famous French leader had established the Polish state at this time?', 'id': '56d1d330e7d4791d0090224e', 'answers': [{'text': 'Napoleon', 'answer_start': 152}], 'is_impossible': False}], 'context': 'Fryderyk Chopin was born in Żelazowa Wola, 46 kilometres (29 miles) west of Warsaw, in what was then the Duchy of Warsaw, a Polish state established by Napoleon. The parish baptismal record gives his birthday as 22 February 1810, and cites his given names in the Latin form Fridericus Franciscus (in Polish, he was Fryderyk Franciszek). However, the composer and his family used the birthdate 1 March,[n 2] which is now generally accepted as the correct date.'}\n",
      "{'qas': [{'question': \"Who did Frédéric's father marry in 1806?\", 'id': '56cbdbf36d243a140015ed99', 'answers': [{'text': 'Justyna Krzyżanowska', 'answer_start': 196}], 'is_impossible': False}, {'question': 'On what date was Frédéric baptised?', 'id': '56cbdbf36d243a140015ed9a', 'answers': [{'text': '23 April 1810', 'answer_start': 331}], 'is_impossible': False}, {'question': \"What language did Frédéric's father, Nicolas, insist on using in the household?\", 'id': '56cbdbf36d243a140015ed9c', 'answers': [{'text': 'Polish', 'answer_start': 156}], 'is_impossible': False}, {'question': \"What was the given name of Chopin's father?\", 'id': '56cf5bfcaab44d1400b89111', 'answers': [{'text': 'Nicolas', 'answer_start': 19}], 'is_impossible': False}, {'question': \"Where was Chopin's father from?\", 'id': '56cf5bfcaab44d1400b89112', 'answers': [{'text': 'Lorraine', 'answer_start': 56}], 'is_impossible': False}, {'question': \"Chopin's father married who?\", 'id': '56cf5bfcaab44d1400b89113', 'answers': [{'text': 'Justyna Krzyżanowska', 'answer_start': 196}], 'is_impossible': False}, {'question': \"What is the name of Chopin's godfather?\", 'id': '56cf5bfcaab44d1400b89114', 'answers': [{'text': 'Fryderyk Skarbek', 'answer_start': 468}], 'is_impossible': False}, {'question': \"What is the name of Chopin's eldest sister?\", 'id': '56cf5bfcaab44d1400b89115', 'answers': [{'text': 'Ludwika', 'answer_start': 590}], 'is_impossible': False}, {'question': \"What was Chopin's father's first name?\", 'id': '56d1d3fee7d4791d00902263', 'answers': [{'text': 'Nicolas', 'answer_start': 19}], 'is_impossible': False}, {'question': \"From where id Chopin's father emigrate from?\", 'id': '56d1d3fee7d4791d00902264', 'answers': [{'text': 'Lorraine', 'answer_start': 56}], 'is_impossible': False}, {'question': \"What is Chopin's older sister's name?\", 'id': '56d1d3fee7d4791d00902266', 'answers': [{'text': 'Ludwika', 'answer_start': 590}], 'is_impossible': False}], 'context': \"Fryderyk's father, Nicolas Chopin, was a Frenchman from Lorraine who had emigrated to Poland in 1787 at the age of sixteen. Nicolas tutored children of the Polish aristocracy, and in 1806 married Justyna Krzyżanowska, a poor relative of the Skarbeks, one of the families for whom he worked. Fryderyk was baptized on Easter Sunday, 23 April 1810, in the same church where his parents had married, in Brochów. His eighteen-year-old godfather, for whom he was named, was Fryderyk Skarbek, a pupil of Nicolas Chopin. Fryderyk was the couple's second child and only son; he had an elder sister, Ludwika (1807–55), and two younger sisters, Izabela (1811–81) and Emilia (1812–27). Nicolas was devoted to his adopted homeland, and insisted on the use of the Polish language in the household.\"}\n",
      "{'qas': [{'question': 'During what month did Frédéric move to Warsaw with his family?', 'id': '56cbdcd16d243a140015eda2', 'answers': [{'text': 'October', 'answer_start': 3}], 'is_impossible': False}, {'question': \"What language did Frédéric's father teach after they had moved to Warsaw?\", 'id': '56cbdcd16d243a140015eda3', 'answers': [{'text': 'French', 'answer_start': 122}], 'is_impossible': False}, {'question': 'Where did Frédéric live with his family while they were in Warsaw?', 'id': '56cbdcd16d243a140015eda4', 'answers': [{'text': 'the Palace grounds', 'answer_start': 218}], 'is_impossible': False}, {'question': \"What two instruments did Frédéric's father play during this time?\", 'id': '56cbdcd16d243a140015eda5', 'answers': [{'text': 'flute and violin', 'answer_start': 260}], 'is_impossible': False}, {'question': 'What was Frédéric prone to during early childhood as a result of his slight build?', 'id': '56cbdcd16d243a140015eda6', 'answers': [{'text': 'illnesses', 'answer_start': 445}], 'is_impossible': False}, {'question': \"When did Chopin's family move to Warsaw?\", 'id': '56cf5e35aab44d1400b89147', 'answers': [{'text': 'October 1810', 'answer_start': 3}], 'is_impossible': False}, {'question': \"Where did Chopin's father get a teaching position?\", 'id': '56cf5e35aab44d1400b89148', 'answers': [{'text': 'Warsaw Lyceum', 'answer_start': 136}], 'is_impossible': False}, {'question': \"What instruments did Chopin's father play?\", 'id': '56cf5e35aab44d1400b89149', 'answers': [{'text': 'flute and violin', 'answer_start': 260}], 'is_impossible': False}, {'question': \"What instrument did Chopin's mother teach?\", 'id': '56cf5e35aab44d1400b8914a', 'answers': [{'text': 'piano', 'answer_start': 300}], 'is_impossible': False}, {'question': 'How old was Chopin when his family moved to Warsaw?', 'id': '56d1d4d3e7d4791d00902275', 'answers': [{'text': 'six months', 'answer_start': 17}], 'is_impossible': False}, {'question': \"What language did Chopin's father teach?\", 'id': '56d1d4d3e7d4791d00902276', 'answers': [{'text': 'French', 'answer_start': 122}], 'is_impossible': False}, {'question': \"What two instruments did Chopin's father play?\", 'id': '56d1d4d3e7d4791d00902277', 'answers': [{'text': 'flute and violin', 'answer_start': 260}], 'is_impossible': False}, {'question': \"What instrument did Chopin's mother teach at the boarding house?\", 'id': '56d1d4d3e7d4791d00902278', 'answers': [{'text': 'piano', 'answer_start': 300}], 'is_impossible': False}, {'question': 'Where did Chopin live with his family in Warsaw?', 'id': '56d1d4d3e7d4791d00902279', 'answers': [{'text': 'Saxon Palace.', 'answer_start': 170}], 'is_impossible': False}], 'context': \"In October 1810, six months after Fryderyk's birth, the family moved to Warsaw, where his father acquired a post teaching French at the Warsaw Lyceum, then housed in the Saxon Palace. Fryderyk lived with his family in the Palace grounds. The father played the flute and violin; the mother played the piano and gave lessons to boys in the boarding house that the Chopins kept. Chopin was of slight build, and even in early childhood was prone to illnesses.\"}\n",
      "{'qas': [{'question': \"Who was Frédéric's first professional teacher in music?\", 'id': '56cbdea66d243a140015edac', 'answers': [{'text': 'Wojciech Żywny', 'answer_start': 143}], 'is_impossible': False}, {'question': 'Which sister did Frédéric play duets with sometimes while being tutored at this time?', 'id': '56cbdea66d243a140015edad', 'answers': [{'text': 'Ludwika', 'answer_start': 176}], 'is_impossible': False}, {'question': 'At what age did Frédéric start giving public concerts?', 'id': '56cbdea66d243a140015edae', 'answers': [{'text': '7', 'answer_start': 391}], 'is_impossible': False}, {'question': 'What did Frédéric compose during the year of 1817?', 'id': '56cbdea66d243a140015edaf', 'answers': [{'text': 'two polonaises', 'answer_start': 405}], 'is_impossible': False}, {'question': 'What is the earliest surviving musical notation composed by Frédéric?', 'id': '56cbdea66d243a140015edb0', 'answers': [{'text': 'a polonaise in A-flat major of 1821', 'answer_start': 465}], 'is_impossible': False}, {'question': \"Who was Chopin's initial piano teacher?\", 'id': '56cf609aaab44d1400b89185', 'answers': [{'text': 'Wojciech Żywny', 'answer_start': 143}], 'is_impossible': False}, {'question': 'Which of his sisters did Chopin sometimes duet with?', 'id': '56cf609aaab44d1400b89186', 'answers': [{'text': 'Ludwika', 'answer_start': 176}], 'is_impossible': False}, {'question': 'At what age did Chopin start playing publicly?', 'id': '56cf609aaab44d1400b89187', 'answers': [{'text': '7', 'answer_start': 391}], 'is_impossible': False}, {'question': 'What year did Chopin compose his first work?', 'id': '56cf609aaab44d1400b89188', 'answers': [{'text': '1817', 'answer_start': 388}], 'is_impossible': False}, {'question': 'During what years did Chopin receive instruction from  Żywny?', 'id': '56cf609aaab44d1400b89189', 'answers': [{'text': '1816 to 1821', 'answer_start': 107}], 'is_impossible': False}, {'question': \"What is the name of Chopin's first music teacher that was not an amateur musician?\", 'id': '56d20a6ae7d4791d00902618', 'answers': [{'text': 'Wojciech Żywny', 'answer_start': 143}], 'is_impossible': False}, {'question': \"Which of Chopin's sisters would play music with him?\", 'id': '56d20a6ae7d4791d00902619', 'answers': [{'text': 'Ludwika', 'answer_start': 176}], 'is_impossible': False}, {'question': 'How old was Chopin when he began to perform for the public?', 'id': '56d20a6ae7d4791d0090261a', 'answers': [{'text': '7', 'answer_start': 391}], 'is_impossible': False}, {'question': \"Who was Chopin's earliest piece of music, that there is a record of, dedicated to?\", 'id': '56d20a6ae7d4791d0090261b', 'answers': [{'text': 'Wojciech Żywny', 'answer_start': 143}], 'is_impossible': False}], 'context': 'Fryderyk may have had some piano instruction from his mother, but his first professional music tutor, from 1816 to 1821, was the Czech pianist Wojciech Żywny. His elder sister Ludwika also took lessons from Żywny, and occasionally played duets with her brother. It quickly became apparent that he was a child prodigy. By the age of seven Fryderyk had begun giving public concerts, and in 1817 he composed two polonaises, in G minor and B-flat major. His next work, a polonaise in A-flat major of 1821, dedicated to Żywny, is his earliest surviving musical manuscript.'}\n",
      "{'qas': [{'question': 'In what year was the Saxon Palace taken by the Russian governor for use regarding the military?', 'id': '56cbdfbf6d243a140015edb6', 'answers': [{'text': '1817', 'answer_start': 3}], 'is_impossible': False}, {'question': 'What establishment today contains what was known as the Warsaw Lyceum during that time?', 'id': '56cbdfbf6d243a140015edb7', 'answers': [{'text': 'Warsaw University', 'answer_start': 178}], 'is_impossible': False}, {'question': \"What building was Frédéric's new home adjacent to?\", 'id': '56cbdfbf6d243a140015edb8', 'answers': [{'text': 'Kazimierz Palace', 'answer_start': 137}], 'is_impossible': False}, {'question': \"What palace was Frédéric sometimes invited to as a companion of the ruler's son?\", 'id': '56cbdfbf6d243a140015edb9', 'answers': [{'text': 'Belweder Palace', 'answer_start': 357}], 'is_impossible': False}, {'question': \"What short poem spoke of Frédéric's popularity as a child?\", 'id': '56cbdfbf6d243a140015edba', 'answers': [{'text': 'Nasze Przebiegi', 'answer_start': 566}], 'is_impossible': False}, {'question': 'The Saxon Palace was taken over for military use in what year?', 'id': '56cf61d3aab44d1400b891a3', 'answers': [{'text': '1817', 'answer_start': 3}], 'is_impossible': False}, {'question': 'The Warsaw Lyceum was moved to where?', 'id': '56cf61d3aab44d1400b891a4', 'answers': [{'text': 'Kazimierz Palace', 'answer_start': 137}], 'is_impossible': False}, {'question': 'As a child Chopin was invited to play with the son of whom?', 'id': '56cf61d3aab44d1400b891a5', 'answers': [{'text': 'Grand Duke Constantine', 'answer_start': 428}], 'is_impossible': False}, {'question': 'What did Chopin create for Grand Duke Constantine?', 'id': '56cf61d3aab44d1400b891a6', 'answers': [{'text': 'a march', 'answer_start': 498}], 'is_impossible': False}, {'question': 'In one of his works who affirmed the popularity of Chopin as a child?', 'id': '56cf61d3aab44d1400b891a7', 'answers': [{'text': 'Julian Ursyn Niemcewicz', 'answer_start': 515}], 'is_impossible': False}, {'question': \"What was the place Chopin was invited to as a friend of ruler's son?\", 'id': '56d20bf6e7d4791d00902622', 'answers': [{'text': 'Belweder Palace', 'answer_start': 357}], 'is_impossible': False}, {'question': 'What is the title and name of the ruler whose son Chopin was friends with?', 'id': '56d20bf6e7d4791d00902623', 'answers': [{'text': 'Grand Duke Constantine', 'answer_start': 428}], 'is_impossible': False}, {'question': \"What type of musical piece did Chopin compose for his friend's ruling father?\", 'id': '56d20bf6e7d4791d00902624', 'answers': [{'text': 'a march', 'answer_start': 498}], 'is_impossible': False}, {'question': 'Who wrote in 1818 about the popularity of Chopin?', 'id': '56d20bf6e7d4791d00902625', 'answers': [{'text': 'Julian Ursyn Niemcewicz', 'answer_start': 515}], 'is_impossible': False}], 'context': 'In 1817 the Saxon Palace was requisitioned by Warsaw\\'s Russian governor for military use, and the Warsaw Lyceum was reestablished in the Kazimierz Palace (today the rectorate of Warsaw University). Fryderyk and his family moved to a building, which still survives, adjacent to the Kazimierz Palace. During this period, Fryderyk was sometimes invited to the Belweder Palace as playmate to the son of the ruler of Russian Poland, Grand Duke Constantine; he played the piano for the Duke and composed a march for him. Julian Ursyn Niemcewicz, in his dramatic eclogue, \"Nasze Przebiegi\" (\"Our Discourses\", 1818), attested to \"little Chopin\\'s\" popularity.'}\n",
      "{'qas': [{'question': 'During what years did Frédéric visit the Warsaw Lyceum for lessons?', 'id': '56cbe1996d243a140015edc0', 'answers': [{'text': '1823 to 1826', 'answer_start': 15}], 'is_impossible': False}, {'question': 'Who was Frédéric a student of involving music theory starting in 1826?', 'id': '56cbe1996d243a140015edc1', 'answers': [{'text': 'Józef Elsner', 'answer_start': 236}], 'is_impossible': False}, {'question': 'What was the name of the mechanical organ Frédéric performed on during 1825?', 'id': '56cbe1996d243a140015edc2', 'answers': [{'text': 'eolomelodicon', 'answer_start': 497}], 'is_impossible': False}, {'question': 'Which tsar did Frédéric perform for due to his success in previous concerts?', 'id': '56cbe1996d243a140015edc3', 'answers': [{'text': 'Alexander I', 'answer_start': 725}], 'is_impossible': False}, {'question': \"On what date was Frédéric's first performance that earned international esteem?\", 'id': '56cbe1996d243a140015edc4', 'answers': [{'text': '10 June 1825', 'answer_start': 848}], 'is_impossible': False}, {'question': 'Who taught Chopin to play the organ?', 'id': '56cf63b4aab44d1400b891bd', 'answers': [{'text': 'Wilhelm Würfel', 'answer_start': 119}], 'is_impossible': False}, {'question': 'Chopin had three years of lessons with whom?', 'id': '56cf63b4aab44d1400b891be', 'answers': [{'text': 'Józef Elsner', 'answer_start': 236}], 'is_impossible': False}, {'question': 'What instrument did Chopin play in front of Tsar Alexander I?', 'id': '56cf63b4aab44d1400b891bf', 'answers': [{'text': 'eolomelodicon', 'answer_start': 497}], 'is_impossible': False}, {'question': 'What gift did Tsar Alexander I give to Chopin?', 'id': '56cf63b4aab44d1400b891c0', 'answers': [{'text': 'diamond ring', 'answer_start': 793}], 'is_impossible': False}, {'question': \"What was the first of Chopin's works to gain international renown? \", 'id': '56cf63b4aab44d1400b891c1', 'answers': [{'text': 'Rondo Op. 1', 'answer_start': 883}], 'is_impossible': False}, {'question': 'Who gave Chopin instruction on how to play the organ?', 'id': '56d22055e7d4791d00902683', 'answers': [{'text': 'Wilhelm Würfel', 'answer_start': 119}], 'is_impossible': False}, {'question': \"What was the name of the teacher of Chopin's three year course that began in the fall of 1826?\", 'id': '56d22055e7d4791d00902684', 'answers': [{'text': 'Józef Elsner', 'answer_start': 236}], 'is_impossible': False}, {'question': 'What is th ename of the mechanical organ Chopin played in 1825?', 'id': '56d22055e7d4791d00902685', 'answers': [{'text': 'eolomelodicon', 'answer_start': 497}], 'is_impossible': False}, {'question': 'What did Tsar Alexander I give to Chopin?', 'id': '56d22055e7d4791d00902686', 'answers': [{'text': 'a diamond ring.', 'answer_start': 791}], 'is_impossible': False}, {'question': 'What is the title of his first commercially successful work?', 'id': '56d22055e7d4791d00902687', 'answers': [{'text': 'Rondo Op. 1.', 'answer_start': 883}], 'is_impossible': False}], 'context': 'From September 1823 to 1826 Chopin attended the Warsaw Lyceum, where he received organ lessons from the Czech musician Wilhelm Würfel during his first year. In the autumn of 1826 he began a three-year course under the Silesian composer Józef Elsner at the Warsaw Conservatory, studying music theory, figured bass and composition.[n 3] Throughout this period he continued to compose and to give recitals in concerts and salons in Warsaw. He was engaged by the inventors of a mechanical organ, the \"eolomelodicon\", and on this instrument in May 1825 he performed his own improvisation and part of a concerto by Moscheles. The success of this concert led to an invitation to give a similar recital on the instrument before Tsar Alexander I, who was visiting Warsaw; the Tsar presented him with a diamond ring. At a subsequent eolomelodicon concert on 10 June 1825, Chopin performed his Rondo Op. 1. This was the first of his works to be commercially published and earned him his first mention in the foreign press, when the Leipzig Allgemeine Musikalische Zeitung praised his \"wealth of musical ideas\".'}\n",
      "{'qas': [{'question': 'Who was Frédéric a guest of during his visit of Szafarnia in 1824 and 1825?', 'id': '56cbe2fd6d243a140015edcb', 'answers': [{'text': 'Dominik Dziewanowski', 'answer_start': 139}], 'is_impossible': False}, {'question': 'In which village did Frédéric first experience rural Polish folk music?', 'id': '56cbe2fd6d243a140015edcc', 'answers': [{'text': 'Szafarnia', 'answer_start': 110}], 'is_impossible': False}, {'question': 'To whom did Frédéric write letters to during his stay in Szafarnia?', 'id': '56cbe2fd6d243a140015edcd', 'answers': [{'text': 'his family', 'answer_start': 390}], 'is_impossible': False}, {'question': 'What did Frédéric write parodies of in his letters?', 'id': '56cbe2fd6d243a140015edce', 'answers': [{'text': 'Warsaw newspapers', 'answer_start': 428}], 'is_impossible': False}, {'question': 'During his vacation in 1824 and 1825 who did Chopin spend his vacation with?', 'id': '56cf64e34df3c31400b0d6f9', 'answers': [{'text': 'Dominik Dziewanowski', 'answer_start': 139}], 'is_impossible': False}, {'question': 'What type of music did Chopin discover for the first time while staying in Szafarnia?', 'id': '56cf64e34df3c31400b0d6fa', 'answers': [{'text': 'Polish rural folk music', 'answer_start': 228}], 'is_impossible': False}, {'question': 'What was the name of the person who hosted Chopin as a guest when he discovered Polish rural folk music?', 'id': '56d2211ae7d4791d00902693', 'answers': [{'text': 'Dominik Dziewanowski', 'answer_start': 139}], 'is_impossible': False}, {'question': 'What was the title chopin gave of some spoof letters he wrote?', 'id': '56d2211ae7d4791d00902694', 'answers': [{'text': 'The Szafarnia Courier', 'answer_start': 314}], 'is_impossible': False}, {'question': 'Where did Chopin spend his vacation in 1824 and 1825?', 'id': '56d2211ae7d4791d00902695', 'answers': [{'text': 'Szafarnia', 'answer_start': 110}], 'is_impossible': False}], 'context': 'During 1824–28 Chopin spent his vacations away from Warsaw, at a number of locales.[n 4] In 1824 and 1825, at Szafarnia, he was a guest of Dominik Dziewanowski, the father of a schoolmate. Here for the first time he encountered Polish rural folk music. His letters home from Szafarnia (to which he gave the title \"The Szafarnia Courier\"), written in a very modern and lively Polish, amused his family with their spoofing of the Warsaw newspapers and demonstrated the youngster\\'s literary gift.'}\n",
      "{'qas': [{'question': \"During what year did Frédéric's youngest sister, Emilia, pass away?\", 'id': '56cbe5df6d243a140015edd4', 'answers': [{'text': '1827', 'answer_start': 3}], 'is_impossible': False}, {'question': \"What street did Frédéric's family move to after the death of his youngest sister?\", 'id': '56cbe5df6d243a140015edd5', 'answers': [{'text': 'Krakowskie Przedmieście', 'answer_start': 256}], 'is_impossible': False}, {'question': 'What year did Frédéric leave Warsaw after moving with his family to the south annex of Krasiński Palace?', 'id': '56cbe5df6d243a140015edd6', 'answers': [{'text': '1830', 'answer_start': 329}], 'is_impossible': False}, {'question': \"What did the Chopin's family business become in the 20th century?\", 'id': '56cbe5df6d243a140015edd7', 'answers': [{'text': 'a museum', 'answer_start': 467}], 'is_impossible': False}, {'question': 'Which artist created the first known portrait of Frédéric?', 'id': '56cbe5df6d243a140015edd8', 'answers': [{'text': 'Ambroży Mieroszewski', 'answer_start': 516}], 'is_impossible': False}, {'question': \"What year did Chopin's sister Emilia die?\", 'id': '56cf66734df3c31400b0d713', 'answers': [{'text': '1827', 'answer_start': 3}], 'is_impossible': False}, {'question': 'What year did Chopin leave Warsaw?', 'id': '56cf66734df3c31400b0d714', 'answers': [{'text': '1830', 'answer_start': 329}], 'is_impossible': False}, {'question': \"What was the Chopin family's business?\", 'id': '56cf66734df3c31400b0d715', 'answers': [{'text': 'boarding house for male students', 'answer_start': 381}], 'is_impossible': False}, {'question': 'What artist painted the Chopin family?', 'id': '56cf66734df3c31400b0d717', 'answers': [{'text': 'Ambroży Mieroszewski', 'answer_start': 516}], 'is_impossible': False}, {'question': \"Who in Chopin's family died shortly before they moved in 1827?\", 'id': '56d3123b59d6e41400146204', 'answers': [{'text': 'sister Emilia', 'answer_start': 51}], 'is_impossible': False}, {'question': 'What year did Chopin leave Warsaw?', 'id': '56d3123b59d6e41400146205', 'answers': [{'text': '1830', 'answer_start': 329}], 'is_impossible': False}, {'question': 'What was the Chopin boarding house called in English?', 'id': '56d3123b59d6e41400146206', 'answers': [{'text': 'Chopin Family Parlour', 'answer_start': 419}], 'is_impossible': False}, {'question': 'What artist made portraits of the Chopin family in 1829?', 'id': '56d3123b59d6e41400146207', 'answers': [{'text': 'Ambroży Mieroszewski', 'answer_start': 516}], 'is_impossible': False}, {'question': 'Was the Chopin family boarding house for male or female students?', 'id': '56d3123b59d6e41400146208', 'answers': [{'text': 'male', 'answer_start': 400}], 'is_impossible': False}], 'context': \"In 1827, soon after the death of Chopin's youngest sister Emilia, the family moved from the Warsaw University building, adjacent to the Kazimierz Palace, to lodgings just across the street from the university, in the south annex of the Krasiński Palace on Krakowskie Przedmieście,[n 5] where Chopin lived until he left Warsaw in 1830.[n 6] Here his parents continued running their boarding house for male students; the Chopin Family Parlour (Salonik Chopinów) became a museum in the 20th century. In 1829 the artist Ambroży Mieroszewski executed a set of portraits of Chopin family members, including the first known portrait of the composer.[n 7]\"}\n",
      "{'qas': [{'question': \"Of the individuals that became intimate with Frédéric during their stay at the family apartments, which two became part of Frédéric's social environment in Paris?\", 'id': '56cbe9436d243a140015eddf', 'answers': [{'text': 'Jan Matuszyński and Julian Fontana', 'answer_start': 116}], 'is_impossible': False}, {'question': 'Which singer was cited specifically as someone Frédéric was attracted to?', 'id': '56cbe9436d243a140015ede0', 'answers': [{'text': 'Konstancja Gładkowska', 'answer_start': 392}], 'is_impossible': False}, {'question': \"What four boys from his family's boarding house became friends with Chopin?\", 'id': '56cf67c74df3c31400b0d72d', 'answers': [{'text': 'Tytus Woyciechowski, Jan Nepomucen Białobłocki, Jan Matuszyński and Julian Fontana', 'answer_start': 68}], 'is_impossible': False}, {'question': 'Which singer did Chopin become fascinated with?', 'id': '56cf67c74df3c31400b0d72e', 'answers': [{'text': 'Konstancja Gładkowska', 'answer_start': 392}], 'is_impossible': False}, {'question': \"Which of Chopin's works was unknowingly dedicated to Gladkowska?\", 'id': '56cf67c74df3c31400b0d72f', 'answers': [{'text': 'Piano Concerto No. 1 (in E minor)', 'answer_start': 633}], 'is_impossible': False}, {'question': 'When did Chopin receive his last Conservatory report?', 'id': '56cf67c74df3c31400b0d730', 'answers': [{'text': 'July 1829', 'answer_start': 799}], 'is_impossible': False}, {'question': \"Which two of Chopin's friends became part of his Paris milieu?\", 'id': '56d313b559d6e4140014620e', 'answers': [{'text': 'Jan Matuszyński and Julian Fontana', 'answer_start': 116}], 'is_impossible': False}, {'question': 'What was the name of the singing student Chopin was attracted to?', 'id': '56d313b559d6e4140014620f', 'answers': [{'text': 'Konstancja Gładkowska', 'answer_start': 392}], 'is_impossible': False}, {'question': 'To whom did Chopin reveal in letters which parts of his work were about the singing student he was infatuated with?', 'id': '56d313b559d6e41400146210', 'answers': [{'text': 'Tytus Woyciechowski', 'answer_start': 68}], 'is_impossible': False}, {'question': 'What musical piece had a Larghetto dedicated to the female singing student Chopin was infatuated with?', 'id': '56d313b559d6e41400146211', 'answers': [{'text': 'Piano Concerto No. 1 (in E minor)', 'answer_start': 633}], 'is_impossible': False}, {'question': \"How many boarders of his family's boarding house became intimate friends with Chopin?\", 'id': '56d313b559d6e41400146212', 'answers': [{'text': 'Four', 'answer_start': 0}], 'is_impossible': False}], 'context': 'Four boarders at his parents\\' apartments became Chopin\\'s intimates: Tytus Woyciechowski, Jan Nepomucen Białobłocki, Jan Matuszyński and Julian Fontana; the latter two would become part of his Paris milieu. He was friendly with members of Warsaw\\'s young artistic and intellectual world, including Fontana, Józef Bohdan Zaleski and Stefan Witwicki. He was also attracted to the singing student Konstancja Gładkowska. In letters to Woyciechowski, he indicated which of his works, and even which of their passages, were influenced by his fascination with her; his letter of 15 May 1830 revealed that the slow movement (Larghetto) of his Piano Concerto No. 1 (in E minor) was secretly dedicated to her – \"It should be like dreaming in beautiful springtime – by moonlight.\" His final Conservatory report (July 1829) read: \"Chopin F., third-year student, exceptional talent, musical genius.\"'}\n",
      "{'qas': [{'question': 'Who did Frédéric visit Berlin with in September 1828?', 'id': '56cbeb396d243a140015ede8', 'answers': [{'text': 'Feliks Jarocki', 'answer_start': 96}], 'is_impossible': False}, {'question': 'Which opera director did Frédéric see works of during his stay in Berlin?', 'id': '56cbeb396d243a140015ede9', 'answers': [{'text': 'Gaspare Spontini', 'answer_start': 140}], 'is_impossible': False}, {'question': 'Who was Frédéric a guest of during his stay in Berlin in 1829?', 'id': '56cbeb396d243a140015edeb', 'answers': [{'text': 'Prince Antoni Radziwiłł', 'answer_start': 299}], 'is_impossible': False}, {'question': \"What piece did Frédéric create specifically for the prince and the prince's daughter, Wanda?\", 'id': '56cbeb396d243a140015edec', 'answers': [{'text': 'Introduction and Polonaise brillante in C major for cello and piano, Op. 3', 'answer_start': 479}], 'is_impossible': False}, {'question': 'When did Chopin visit Berlin?', 'id': '56cf69144df3c31400b0d745', 'answers': [{'text': 'September 1828', 'answer_start': 3}], 'is_impossible': False}, {'question': 'With whom did Chopin go to Berlin?', 'id': '56cf69144df3c31400b0d746', 'answers': [{'text': 'Feliks Jarocki', 'answer_start': 96}], 'is_impossible': False}, {'question': 'While in Berlin he saw the operatic work of who?', 'id': '56cf69144df3c31400b0d747', 'answers': [{'text': 'Gaspare Spontini', 'answer_start': 140}], 'is_impossible': False}, {'question': 'In 1829 on a trip back to Berlin Chopin was a guest of who?', 'id': '56cf69144df3c31400b0d748', 'answers': [{'text': 'Prince Antoni Radziwiłł', 'answer_start': 299}], 'is_impossible': False}, {'question': 'What piece did Chopin create for Prince Antoni?', 'id': '56cf69144df3c31400b0d749', 'answers': [{'text': 'Introduction and Polonaise brillante in C major for cello and piano, Op. 3', 'answer_start': 479}], 'is_impossible': False}, {'question': 'What year did Chopin visit Berlin while still a student?', 'id': '56d3148359d6e41400146218', 'answers': [{'text': '1828', 'answer_start': 13}], 'is_impossible': False}, {'question': 'Who did Chopin go to Berlin with?', 'id': '56d3148359d6e41400146219', 'answers': [{'text': 'Feliks Jarocki', 'answer_start': 96}], 'is_impossible': False}, {'question': 'What did the person who Chopin went with to Berlin do for his work?', 'id': '56d3148359d6e4140014621a', 'answers': [{'text': 'zoologist', 'answer_start': 86}], 'is_impossible': False}, {'question': 'Who directed the operas they enjoyed in Berlin?', 'id': '56d3148359d6e4140014621b', 'answers': [{'text': 'Gaspare Spontini', 'answer_start': 140}], 'is_impossible': False}, {'question': 'What year did Chopin return to Berlin?', 'id': '56d3148359d6e4140014621c', 'answers': [{'text': '1829', 'answer_start': 253}], 'is_impossible': False}], 'context': 'In September 1828 Chopin, while still a student, visited Berlin with a family friend, zoologist Feliks Jarocki, enjoying operas directed by Gaspare Spontini and attending concerts by Carl Friedrich Zelter, Felix Mendelssohn and other celebrities. On an 1829 return trip to Berlin, he was a guest of Prince Antoni Radziwiłł, governor of the Grand Duchy of Posen—himself an accomplished composer and aspiring cellist. For the prince and his pianist daughter Wanda, he composed his Introduction and Polonaise brillante in C major for cello and piano, Op. 3.'}\n",
      "{'qas': [{'question': 'What did Frédéric compose after hearing Niccolò Paganini perform on the violin?', 'id': '56cbedde6d243a140015edf2', 'answers': [{'text': 'Souvenir de Paganini', 'answer_start': 107}], 'is_impossible': False}, {'question': 'During what month did Frédéric make his first appearance in Vienna?', 'id': '56cbedde6d243a140015edf4', 'answers': [{'text': 'August', 'answer_start': 286}], 'is_impossible': False}, {'question': 'How many piano concerts did Frédéric perform in Vienna during this time?', 'id': '56cbedde6d243a140015edf5', 'answers': [{'text': 'two', 'answer_start': 400}], 'is_impossible': False}, {'question': 'On what date did Frédéric give his first performance of Piano Concerto No. 2 in F minor, Op. 21?', 'id': '56cbedde6d243a140015edf6', 'answers': [{'text': '17 March 1830', 'answer_start': 871}], 'is_impossible': False}, {'question': 'What did Chopin compose after hearing Niccolo Paganini?', 'id': '56cf6af94df3c31400b0d761', 'answers': [{'text': 'Souvenir de Paganini', 'answer_start': 107}], 'is_impossible': False}, {'question': 'Where did Chopin debut after completing his studies?', 'id': '56cf6af94df3c31400b0d762', 'answers': [{'text': 'Vienna', 'answer_start': 384}], 'is_impossible': False}, {'question': 'What piece did Chopin debut after returning to Warsaw?', 'id': '56cf6af94df3c31400b0d763', 'answers': [{'text': 'Piano Concerto No. 2 in F minor, Op. 21', 'answer_start': 828}], 'is_impossible': False}, {'question': 'When did Chopin return to Warsaw?', 'id': '56cf6af94df3c31400b0d764', 'answers': [{'text': 'September 1829', 'answer_start': 789}], 'is_impossible': False}, {'question': 'Why did some critics say that Chopin was too delicate?', 'id': '56cf6af94df3c31400b0d765', 'answers': [{'text': 'accustomed to the piano-bashing of local artists', 'answer_start': 547}], 'is_impossible': False}, {'question': 'Who did Chopin hear play violin in 1829 that prompted him to write a composisition?', 'id': '56d315d159d6e41400146222', 'answers': [{'text': 'Niccolò Paganini', 'answer_start': 39}], 'is_impossible': False}, {'question': 'Where did Chopin make his debut after completing his education?', 'id': '56d315d159d6e41400146223', 'answers': [{'text': 'Vienna', 'answer_start': 384}], 'is_impossible': False}, {'question': 'How many public performances did Chopin do where he made his debut after completing his education?', 'id': '56d315d159d6e41400146224', 'answers': [{'text': 'two', 'answer_start': 400}], 'is_impossible': False}, {'question': 'How many weeks after completing school was it before Chopin made his public debut?', 'id': '56d315d159d6e41400146225', 'answers': [{'text': 'three', 'answer_start': 294}], 'is_impossible': False}], 'context': 'Back in Warsaw that year, Chopin heard Niccolò Paganini play the violin, and composed a set of variations, Souvenir de Paganini. It may have been this experience which encouraged him to commence writing his first Études, (1829–32), exploring the capacities of his own instrument. On 11 August, three weeks after completing his studies at the Warsaw Conservatory, he made his debut in Vienna. He gave two piano concerts and received many favourable reviews—in addition to some commenting (in Chopin\\'s own words) that he was \"too delicate for those accustomed to the piano-bashing of local artists\". In one of these concerts, he premiered his Variations on Là ci darem la mano, Op. 2 (variations on an aria from Mozart\\'s opera Don Giovanni) for piano and orchestra. He returned to Warsaw in September 1829, where he premiered his Piano Concerto No. 2 in F minor, Op. 21 on 17 March 1830.'}\n"
     ]
    }
   ],
   "source": [
    "# Generate question data -- pos_example\n",
    "rows = []\n",
    "neg_examples = []\n",
    "\n",
    "# download question dataset and put into DataFrame\n",
    "with open(\"train_5500.label.txt\", \"r\", encoding=\"ISO-8859-1\") as f:\n",
    "    i = 0\n",
    "    for l in f.readlines():\n",
    "        split_line = l.split()\n",
    "        rows.append({\"text\": \" \".join(split_line[1:]), \"label\":1})\n",
    "pos_example = pd.DataFrame(rows)\n",
    "pd.DataFrame(rows).to_csv(\"question_dataset.csv\", index = False)\n",
    "\n",
    "data = pd.read_json(\"train-v2.0.json\")\n",
    "rows = []\n",
    "\n",
    "for i in range(0, 15):\n",
    "    print(data['data'][1]['paragraphs'][i])\n",
    "    if (data['data'][1]['paragraphs'][i] == None):\n",
    "        i = i+1\n",
    "    else:\n",
    "        list = data['data'][i]['paragraphs'][i]['qas']\n",
    "    for table in list:\n",
    "        data_row = table['answers']\n",
    "        time = table['question']\n",
    "        for row in data_row:\n",
    "            row['question'] = time\n",
    "            rows.append(row)\n",
    "para = pd.DataFrame(rows)\n",
    "pd.DataFrame(para.text).to_csv(\"statement_dataset.csv\", index = False)\n",
    "\n",
    "# read question into all lower case \n",
    "\n",
    "# test if who, what, when, where, why, how are in the string\n",
    "# test if a question mark is in the string \n",
    "# "
   ]
  },
  {
   "cell_type": "code",
   "execution_count": 117,
   "metadata": {},
   "outputs": [
    {
     "name": "stderr",
     "output_type": "stream",
     "text": [
      "100%|██████████| 35/35 [00:42<00:00,  1.22s/it]\n"
     ]
    }
   ],
   "source": [
    "import json\n",
    "import spacy \n",
    "from tqdm import tqdm \n",
    "\n",
    "nlp = spacy.load(\"en_core_web_sm\")\n",
    "\n",
    "data = json.load(open(\"dev-v2.0.json\", \"r\"))\n",
    "data.keys()\n",
    "#data['data'][0]['paragraphs'][0]['context']\n",
    "#data['data'][0]['paragraphs'][0]['qas'][0]['question']\n",
    "\n",
    "extracted_rows = []\n",
    "for article in tqdm(data['data']):\n",
    "    for paragraph in article['paragraphs']:\n",
    "        for sent in nlp(paragraph['context']).sents:\n",
    "            extracted_rows.append({\"text\": sent.text, \"label\": 0})\n",
    "        \n",
    "        for question in paragraph['qas']:\n",
    "            extracted_rows.append({\"text\": question['question'], \"label\": 1})\n",
    "\n",
    "table = pd.DataFrame(extracted_rows)\n"
   ]
  },
  {
   "cell_type": "code",
   "execution_count": 118,
   "metadata": {},
   "outputs": [],
   "source": [
    "table.to_csv(\"qa.csv\")"
   ]
  },
  {
   "cell_type": "code",
   "execution_count": 133,
   "metadata": {},
   "outputs": [],
   "source": [
    "from sklearn.feature_extraction.text import TfidfVectorizer\n",
    "from sklearn.model_selection import train_test_split\n",
    "\n",
    "train, test = train_test_split(table, stratify = table['label'], random_state = 75)\n",
    "\n",
    "tfidf = TfidfVectorizer()\n",
    "tfidf.fit(table['text'])\n",
    "\n",
    "X_train = tfidf.transform(train['text'])\n",
    "X_test = tfidf.transform(test['text'])\n",
    "\n"
   ]
  },
  {
   "cell_type": "code",
   "execution_count": 145,
   "metadata": {},
   "outputs": [
    {
     "name": "stdout",
     "output_type": "stream",
     "text": [
      "              precision    recall  f1-score   support\n",
      "\n",
      "           0       0.97      0.32      0.48      1650\n",
      "           1       0.73      0.99      0.84      2969\n",
      "\n",
      "    accuracy                           0.75      4619\n",
      "   macro avg       0.85      0.66      0.66      4619\n",
      "weighted avg       0.81      0.75      0.71      4619\n",
      "\n"
     ]
    }
   ],
   "source": [
    "from sklearn.naive_bayes import MultinomialNB\n",
    "from sklearn.metrics import classification_report\n",
    "\n",
    "clf = MultinomialNB()\n",
    "clf.fit(X_train, train['label'])\n",
    "clf.score(X_train, train['label'])\n",
    "\n",
    "preds = clf.predict(X_test)\n",
    "print(classification_report(test['label'], preds))"
   ]
  },
  {
   "cell_type": "code",
   "execution_count": 146,
   "metadata": {},
   "outputs": [
    {
     "name": "stdout",
     "output_type": "stream",
     "text": [
      "              precision    recall  f1-score   support\n",
      "\n",
      "           0       0.97      0.96      0.97      1650\n",
      "           1       0.98      0.98      0.98      2969\n",
      "\n",
      "    accuracy                           0.98      4619\n",
      "   macro avg       0.98      0.97      0.97      4619\n",
      "weighted avg       0.98      0.98      0.98      4619\n",
      "\n"
     ]
    },
    {
     "name": "stderr",
     "output_type": "stream",
     "text": [
      "/Users/taylornielsen/opt/anaconda3/lib/python3.7/site-packages/sklearn/linear_model/logistic.py:432: FutureWarning: Default solver will be changed to 'lbfgs' in 0.22. Specify a solver to silence this warning.\n",
      "  FutureWarning)\n"
     ]
    }
   ],
   "source": [
    "from sklearn.linear_model import LogisticRegression\n",
    "\n",
    "clf = LogisticRegression()\n",
    "clf.fit(X_train, train['label'])\n",
    "clf.score(X_train, train['label'])\n",
    "\n",
    "preds = clf.predict(X_test)\n",
    "print(classification_report(test['label'], preds))"
   ]
  },
  {
   "cell_type": "code",
   "execution_count": 151,
   "metadata": {},
   "outputs": [
    {
     "data": {
      "text/plain": [
       "array([0])"
      ]
     },
     "execution_count": 151,
     "metadata": {},
     "output_type": "execute_result"
    }
   ],
   "source": [
    "i = \"that cat is awesome?\"\n",
    "\n",
    "ie = tfidf.transform([i])\n",
    "clf.predict(ie)"
   ]
  },
  {
   "cell_type": "code",
   "execution_count": 5,
   "metadata": {},
   "outputs": [
    {
     "name": "stdout",
     "output_type": "stream",
     "text": [
      "318\n",
      "312\n"
     ]
    }
   ],
   "source": [
    "from sklearn.feature_extraction import stop_words\n",
    " \n",
    "a = stop_words.ENGLISH_STOP_WORDS\n",
    "print(len(a))\n",
    "b = set(['who', 'what', 'when', 'where', 'why', 'how'])\n",
    "c = a.difference(b)\n",
    "print(len(c))"
   ]
  },
  {
   "cell_type": "code",
   "execution_count": 113,
   "metadata": {},
   "outputs": [
    {
     "name": "stdout",
     "output_type": "stream",
     "text": [
      "The Normans (Norman: Nourmands; French: Normands; Latin: Normanni) were the people who in the 10th and 11th centuries gave their name to Normandy, a region in France.\n",
      "They were descended from Norse (\"Norman\" comes from \"Norseman\") raiders and pirates from Denmark, Iceland and Norway who, under their leader Rollo, agreed to swear fealty to King Charles III of West Francia.\n",
      "Through generations of assimilation and mixing with the native Frankish and Roman-Gaulish populations, their descendants would gradually merge with the Carolingian-based cultures of West Francia.\n",
      "The distinct cultural and ethnic identity of the Normans emerged initially in the first half of the 10th century, and it continued to evolve over the succeeding centuries.\n"
     ]
    }
   ],
   "source": [
    "import spacy \n",
    "nlp = spacy.load(\"en_core_web_sm\")\n",
    "p = \"\"\"The Normans (Norman: Nourmands; French: Normands; Latin: Normanni) were the people who in the 10th and 11th centuries gave their name to Normandy, a region in France. They were descended from Norse (\"Norman\" comes from \"Norseman\") raiders and pirates from Denmark, Iceland and Norway who, under their leader Rollo, agreed to swear fealty to King Charles III of West Francia. Through generations of assimilation and mixing with the native Frankish and Roman-Gaulish populations, their descendants would gradually merge with the Carolingian-based cultures of West Francia. The distinct cultural and ethnic identity of the Normans emerged initially in the first half of the 10th century, and it continued to evolve over the succeeding centuries.\"\"\"\n",
    "\n",
    "for s in nlp(p).sents:\n",
    "    print(s.text)"
   ]
  },
  {
   "cell_type": "code",
   "execution_count": 100,
   "metadata": {},
   "outputs": [
    {
     "data": {
      "text/html": [
       "<div>\n",
       "<style scoped>\n",
       "    .dataframe tbody tr th:only-of-type {\n",
       "        vertical-align: middle;\n",
       "    }\n",
       "\n",
       "    .dataframe tbody tr th {\n",
       "        vertical-align: top;\n",
       "    }\n",
       "\n",
       "    .dataframe thead th {\n",
       "        text-align: right;\n",
       "    }\n",
       "</style>\n",
       "<table border=\"1\" class=\"dataframe\">\n",
       "  <thead>\n",
       "    <tr style=\"text-align: right;\">\n",
       "      <th></th>\n",
       "      <th>text</th>\n",
       "      <th>label</th>\n",
       "    </tr>\n",
       "  </thead>\n",
       "  <tbody>\n",
       "    <tr>\n",
       "      <td>0</td>\n",
       "      <td>The Normans (Norman: Nourmands; French: Norman...</td>\n",
       "      <td>0</td>\n",
       "    </tr>\n",
       "    <tr>\n",
       "      <td>1</td>\n",
       "      <td>They were descended from Norse (\"Norman\" comes...</td>\n",
       "      <td>0</td>\n",
       "    </tr>\n",
       "    <tr>\n",
       "      <td>2</td>\n",
       "      <td>Through generations of assimilation and mixing...</td>\n",
       "      <td>0</td>\n",
       "    </tr>\n",
       "    <tr>\n",
       "      <td>3</td>\n",
       "      <td>The distinct cultural and ethnic identity of t...</td>\n",
       "      <td>0</td>\n",
       "    </tr>\n",
       "  </tbody>\n",
       "</table>\n",
       "</div>"
      ],
      "text/plain": [
       "                                                text  label\n",
       "0  The Normans (Norman: Nourmands; French: Norman...      0\n",
       "1  They were descended from Norse (\"Norman\" comes...      0\n",
       "2  Through generations of assimilation and mixing...      0\n",
       "3  The distinct cultural and ethnic identity of t...      0"
      ]
     },
     "execution_count": 100,
     "metadata": {},
     "output_type": "execute_result"
    }
   ],
   "source": [
    "import spacy \n",
    "p = \"\"\"The Normans (Norman: Nourmands; French: Normands; Latin: Normanni) were the people who in the 10th and 11th centuries gave their name to Normandy, a region in France. They were descended from Norse (\"Norman\" comes from \"Norseman\") raiders and pirates from Denmark, Iceland and Norway who, under their leader Rollo, agreed to swear fealty to King Charles III of West Francia. Through generations of assimilation and mixing with the native Frankish and Roman-Gaulish populations, their descendants would gradually merge with the Carolingian-based cultures of West Francia. The distinct cultural and ethnic identity of the Normans emerged initially in the first half of the 10th century, and it continued to evolve over the succeeding centuries.\"\"\"\n",
    "nlp = spacy.load('en_core_web_sm')\n",
    "type(nlp(p))\n",
    "\n",
    "for sent in nlp(p).sents:\n",
    "    neg_examples.append({\"text\": sent.text, \"label\":0})\n",
    "neg = pd.DataFrame(neg_examples)\n",
    "neg"
   ]
  },
  {
   "cell_type": "code",
   "execution_count": 304,
   "metadata": {},
   "outputs": [
    {
     "data": {
      "text/plain": [
       "0      {'title': 'Beyoncé', 'paragraphs': [{'qas': [{...\n",
       "1      {'title': 'Frédéric_Chopin', 'paragraphs': [{'...\n",
       "2      {'title': 'Sino-Tibetan_relations_during_the_M...\n",
       "3      {'title': 'IPod', 'paragraphs': [{'qas': [{'qu...\n",
       "4      {'title': 'The_Legend_of_Zelda:_Twilight_Princ...\n",
       "                             ...                        \n",
       "437    {'title': 'Infection', 'paragraphs': [{'qas': ...\n",
       "438    {'title': 'Hunting', 'paragraphs': [{'qas': [{...\n",
       "439    {'title': 'Kathmandu', 'paragraphs': [{'qas': ...\n",
       "440    {'title': 'Myocardial_infarction', 'paragraphs...\n",
       "441    {'title': 'Matter', 'paragraphs': [{'qas': [{'...\n",
       "Name: data, Length: 442, dtype: object"
      ]
     },
     "execution_count": 304,
     "metadata": {},
     "output_type": "execute_result"
    }
   ],
   "source": [
    "# statement dataset \n",
    "neg_example = []\n",
    "data = pd.read_json(\"train-v2.0.json\")\n",
    "data['data']\n",
    "\n",
    "\n",
    "    "
   ]
  },
  {
   "cell_type": "code",
   "execution_count": 38,
   "metadata": {},
   "outputs": [
    {
     "data": {
      "text/html": [
       "<div>\n",
       "<style scoped>\n",
       "    .dataframe tbody tr th:only-of-type {\n",
       "        vertical-align: middle;\n",
       "    }\n",
       "\n",
       "    .dataframe tbody tr th {\n",
       "        vertical-align: top;\n",
       "    }\n",
       "\n",
       "    .dataframe thead th {\n",
       "        text-align: right;\n",
       "    }\n",
       "</style>\n",
       "<table border=\"1\" class=\"dataframe\">\n",
       "  <thead>\n",
       "    <tr style=\"text-align: right;\">\n",
       "      <th></th>\n",
       "      <th>text</th>\n",
       "      <th>label</th>\n",
       "    </tr>\n",
       "  </thead>\n",
       "  <tbody>\n",
       "    <tr>\n",
       "      <td>0</td>\n",
       "      <td>How did serfdom develop in and then leave Russ...</td>\n",
       "      <td>1</td>\n",
       "    </tr>\n",
       "    <tr>\n",
       "      <td>1</td>\n",
       "      <td>What films featured the character Popeye Doyle ?</td>\n",
       "      <td>1</td>\n",
       "    </tr>\n",
       "    <tr>\n",
       "      <td>2</td>\n",
       "      <td>How can I find a list of celebrities ' real na...</td>\n",
       "      <td>1</td>\n",
       "    </tr>\n",
       "    <tr>\n",
       "      <td>3</td>\n",
       "      <td>What fowl grabs the spotlight after the Chines...</td>\n",
       "      <td>1</td>\n",
       "    </tr>\n",
       "    <tr>\n",
       "      <td>4</td>\n",
       "      <td>What is the full form of .com ?</td>\n",
       "      <td>1</td>\n",
       "    </tr>\n",
       "    <tr>\n",
       "      <td>...</td>\n",
       "      <td>...</td>\n",
       "      <td>...</td>\n",
       "    </tr>\n",
       "    <tr>\n",
       "      <td>999</td>\n",
       "      <td>Who portrayed `` Rosanne Rosanna-Dana '' on th...</td>\n",
       "      <td>1</td>\n",
       "    </tr>\n",
       "    <tr>\n",
       "      <td>0</td>\n",
       "      <td>The Normans (Norman: Nourmands; French: Norman...</td>\n",
       "      <td>0</td>\n",
       "    </tr>\n",
       "    <tr>\n",
       "      <td>1</td>\n",
       "      <td>They were descended from Norse (\"Norman\" comes...</td>\n",
       "      <td>0</td>\n",
       "    </tr>\n",
       "    <tr>\n",
       "      <td>2</td>\n",
       "      <td>Through generations of assimilation and mixing...</td>\n",
       "      <td>0</td>\n",
       "    </tr>\n",
       "    <tr>\n",
       "      <td>3</td>\n",
       "      <td>The distinct cultural and ethnic identity of t...</td>\n",
       "      <td>0</td>\n",
       "    </tr>\n",
       "  </tbody>\n",
       "</table>\n",
       "<p>1004 rows × 2 columns</p>\n",
       "</div>"
      ],
      "text/plain": [
       "                                                  text  label\n",
       "0    How did serfdom develop in and then leave Russ...      1\n",
       "1     What films featured the character Popeye Doyle ?      1\n",
       "2    How can I find a list of celebrities ' real na...      1\n",
       "3    What fowl grabs the spotlight after the Chines...      1\n",
       "4                      What is the full form of .com ?      1\n",
       "..                                                 ...    ...\n",
       "999  Who portrayed `` Rosanne Rosanna-Dana '' on th...      1\n",
       "0    The Normans (Norman: Nourmands; French: Norman...      0\n",
       "1    They were descended from Norse (\"Norman\" comes...      0\n",
       "2    Through generations of assimilation and mixing...      0\n",
       "3    The distinct cultural and ethnic identity of t...      0\n",
       "\n",
       "[1004 rows x 2 columns]"
      ]
     },
     "execution_count": 38,
     "metadata": {},
     "output_type": "execute_result"
    }
   ],
   "source": [
    "pd.concat([pos, neg])"
   ]
  },
  {
   "cell_type": "code",
   "execution_count": 64,
   "metadata": {},
   "outputs": [
    {
     "ename": "NameError",
     "evalue": "name 'lower' is not defined",
     "output_type": "error",
     "traceback": [
      "\u001b[0;31m---------------------------------------------------------------------------\u001b[0m",
      "\u001b[0;31mNameError\u001b[0m                                 Traceback (most recent call last)",
      "\u001b[0;32m<ipython-input-64-845cb972c17d>\u001b[0m in \u001b[0;36m<module>\u001b[0;34m\u001b[0m\n\u001b[1;32m     11\u001b[0m \u001b[0mpos_example\u001b[0m \u001b[0;34m=\u001b[0m \u001b[0mpd\u001b[0m\u001b[0;34m.\u001b[0m\u001b[0mDataFrame\u001b[0m\u001b[0;34m(\u001b[0m\u001b[0mrows\u001b[0m\u001b[0;34m)\u001b[0m\u001b[0;34m\u001b[0m\u001b[0;34m\u001b[0m\u001b[0m\n\u001b[1;32m     12\u001b[0m \u001b[0;32mfor\u001b[0m \u001b[0mi\u001b[0m \u001b[0;32min\u001b[0m \u001b[0mrange\u001b[0m\u001b[0;34m(\u001b[0m\u001b[0;36m1\u001b[0m\u001b[0;34m,\u001b[0m \u001b[0mlen\u001b[0m\u001b[0;34m(\u001b[0m\u001b[0mrows\u001b[0m\u001b[0;34m)\u001b[0m\u001b[0;34m)\u001b[0m\u001b[0;34m:\u001b[0m\u001b[0;34m\u001b[0m\u001b[0;34m\u001b[0m\u001b[0m\n\u001b[0;32m---> 13\u001b[0;31m     \u001b[0mrows2\u001b[0m \u001b[0;34m=\u001b[0m \u001b[0mlower\u001b[0m\u001b[0;34m(\u001b[0m\u001b[0mpos_example\u001b[0m\u001b[0;34m[\u001b[0m\u001b[0;34m'text'\u001b[0m\u001b[0;34m]\u001b[0m\u001b[0;34m[\u001b[0m\u001b[0mi\u001b[0m\u001b[0;34m]\u001b[0m\u001b[0;34m)\u001b[0m\u001b[0;34m\u001b[0m\u001b[0;34m\u001b[0m\u001b[0m\n\u001b[0m\u001b[1;32m     14\u001b[0m     \u001b[0mprint\u001b[0m\u001b[0;34m(\u001b[0m\u001b[0mrows2\u001b[0m\u001b[0;34m)\u001b[0m\u001b[0;34m\u001b[0m\u001b[0;34m\u001b[0m\u001b[0m\n\u001b[1;32m     15\u001b[0m \u001b[0mprint\u001b[0m\u001b[0;34m(\u001b[0m\u001b[0mpos_example\u001b[0m\u001b[0;34m)\u001b[0m\u001b[0;34m\u001b[0m\u001b[0;34m\u001b[0m\u001b[0m\n",
      "\u001b[0;31mNameError\u001b[0m: name 'lower' is not defined"
     ]
    }
   ],
   "source": [
    "# Generate question data -- pos_example\n",
    "rows = []\n",
    "neg_examples = []\n",
    "\n",
    "# download question dataset and put into DataFrame\n",
    "with open(\"train_5500.label.txt\", \"r\", encoding=\"ISO-8859-1\") as f:\n",
    "    i = 0\n",
    "    for l in f.readlines():\n",
    "        split_line = l.split()\n",
    "        rows.append({\"text\": \" \".join(split_line[1:]), \"label\":1})\n",
    "pos_example = pd.DataFrame(rows)\n",
    "for i in range(1, len(rows)):\n",
    "    rows2 = lower(pos_example['text'][i])\n",
    "    print(rows2)\n",
    "print(pos_example)\n",
    "pd.DataFrame(rows).to_csv(\"question_dataset.csv\", index = False)\n"
   ]
  },
  {
   "cell_type": "code",
   "execution_count": null,
   "metadata": {},
   "outputs": [],
   "source": [
    "import swifter\n",
    "import spacy \n",
    "\n",
    "nlp = spacy.load('en_core_web_sm')\n",
    "\n",
    "def clean_str(text: str) -> str:\n",
    "    return \" \".join([tok.lemma_ for tok in nlp(text)])\n",
    "\n",
    "for i in tqdm(range(0, len(table))):\n",
    "    table['text'].iloc[i] = clean_str(table['text'].iloc[i])\n"
   ]
  },
  {
   "cell_type": "code",
   "execution_count": null,
   "metadata": {},
   "outputs": [],
   "source": [
    "# remove punctuation from every third entry and lower all text for all entries\n",
    "import string\n",
    "def remove_punc(text):\n",
    "    exclude = set(string.punctuation)\n",
    "    return ''.join(ch.lower() for ch in text if ch not in exclude)\n",
    "\n",
    "for i in tqdm(range(0, len(table), 3)):\n",
    "    table['text'].iloc[i] = remove_punc(table['text'].iloc[i])"
   ]
  }
 ],
 "metadata": {
  "kernelspec": {
   "display_name": "Python 3",
   "language": "python",
   "name": "python3"
  },
  "language_info": {
   "codemirror_mode": {
    "name": "ipython",
    "version": 3
   },
   "file_extension": ".py",
   "mimetype": "text/x-python",
   "name": "python",
   "nbconvert_exporter": "python",
   "pygments_lexer": "ipython3",
   "version": "3.7.4"
  }
 },
 "nbformat": 4,
 "nbformat_minor": 2
}
